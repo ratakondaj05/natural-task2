{
 "cells": [
  {
   "cell_type": "code",
   "execution_count": 1,
   "id": "931d5fa7",
   "metadata": {},
   "outputs": [
    {
     "name": "stdout",
     "output_type": "stream",
     "text": [
      "WARNING:tensorflow:From C:\\Users\\jahna\\anaconda3\\Lib\\site-packages\\keras\\src\\losses.py:2976: The name tf.losses.sparse_softmax_cross_entropy is deprecated. Please use tf.compat.v1.losses.sparse_softmax_cross_entropy instead.\n",
      "\n"
     ]
    }
   ],
   "source": [
    "# importing part of libraries into the project\n",
    "import pandas as pd\n",
    "from sklearn.model_selection import train_test_split\n",
    "from sklearn.preprocessing import LabelEncoder\n",
    "from sklearn.feature_extraction.text import CountVectorizer\n",
    "from tensorflow.keras.preprocessing.text import Tokenizer\n",
    "from tensorflow.keras.preprocessing.sequence import pad_sequences\n",
    "from tensorflow.keras.models import Sequential\n",
    "from tensorflow.keras.layers import Embedding, Conv1D, GlobalMaxPooling1D, Dense\n",
    "from sklearn.metrics import classification_report\n",
    "from tensorflow.keras.layers import Embedding, SimpleRNN, Dense\n",
    "from tensorflow.keras.layers import Embedding,LSTM, Dense\n",
    "from sklearn.metrics import accuracy_score, confusion_matrix, classification_report\n",
    "import seaborn as sns\n",
    "import matplotlib.pyplot as plt\n"
   ]
  },
  {
   "cell_type": "code",
   "execution_count": 2,
   "id": "92537d52",
   "metadata": {},
   "outputs": [],
   "source": [
    "# Dataset implementation part\n",
    "df = pd.read_csv('labeled_data.csv')"
   ]
  },
  {
   "cell_type": "code",
   "execution_count": 3,
   "id": "3fa3fb10",
   "metadata": {},
   "outputs": [
    {
     "name": "stdout",
     "output_type": "stream",
     "text": [
      "   Unnamed: 0  count  hate_speech  offensive_language  neither  class  \\\n",
      "0           0      3            0                   0        3      2   \n",
      "1           1      3            0                   3        0      1   \n",
      "2           2      3            0                   3        0      1   \n",
      "3           3      3            0                   2        1      1   \n",
      "4           4      6            0                   6        0      1   \n",
      "\n",
      "                                               tweet  \n",
      "0  !!! RT @mayasolovely: As a woman you shouldn't...  \n",
      "1  !!!!! RT @mleew17: boy dats cold...tyga dwn ba...  \n",
      "2  !!!!!!! RT @UrKindOfBrand Dawg!!!! RT @80sbaby...  \n",
      "3  !!!!!!!!! RT @C_G_Anderson: @viva_based she lo...  \n",
      "4  !!!!!!!!!!!!! RT @ShenikaRoberts: The shit you...  \n"
     ]
    }
   ],
   "source": [
    "print(df.head())"
   ]
  },
  {
   "cell_type": "code",
   "execution_count": 4,
   "id": "a988a3f5",
   "metadata": {},
   "outputs": [
    {
     "data": {
      "text/html": [
       "<div>\n",
       "<style scoped>\n",
       "    .dataframe tbody tr th:only-of-type {\n",
       "        vertical-align: middle;\n",
       "    }\n",
       "\n",
       "    .dataframe tbody tr th {\n",
       "        vertical-align: top;\n",
       "    }\n",
       "\n",
       "    .dataframe thead th {\n",
       "        text-align: right;\n",
       "    }\n",
       "</style>\n",
       "<table border=\"1\" class=\"dataframe\">\n",
       "  <thead>\n",
       "    <tr style=\"text-align: right;\">\n",
       "      <th></th>\n",
       "      <th>tweet</th>\n",
       "      <th>class</th>\n",
       "    </tr>\n",
       "  </thead>\n",
       "  <tbody>\n",
       "    <tr>\n",
       "      <th>0</th>\n",
       "      <td>!!! RT @mayasolovely: As a woman you shouldn't...</td>\n",
       "      <td>2</td>\n",
       "    </tr>\n",
       "    <tr>\n",
       "      <th>1</th>\n",
       "      <td>!!!!! RT @mleew17: boy dats cold...tyga dwn ba...</td>\n",
       "      <td>1</td>\n",
       "    </tr>\n",
       "    <tr>\n",
       "      <th>2</th>\n",
       "      <td>!!!!!!! RT @UrKindOfBrand Dawg!!!! RT @80sbaby...</td>\n",
       "      <td>1</td>\n",
       "    </tr>\n",
       "    <tr>\n",
       "      <th>3</th>\n",
       "      <td>!!!!!!!!! RT @C_G_Anderson: @viva_based she lo...</td>\n",
       "      <td>1</td>\n",
       "    </tr>\n",
       "    <tr>\n",
       "      <th>4</th>\n",
       "      <td>!!!!!!!!!!!!! RT @ShenikaRoberts: The shit you...</td>\n",
       "      <td>1</td>\n",
       "    </tr>\n",
       "  </tbody>\n",
       "</table>\n",
       "</div>"
      ],
      "text/plain": [
       "                                               tweet  class\n",
       "0  !!! RT @mayasolovely: As a woman you shouldn't...      2\n",
       "1  !!!!! RT @mleew17: boy dats cold...tyga dwn ba...      1\n",
       "2  !!!!!!! RT @UrKindOfBrand Dawg!!!! RT @80sbaby...      1\n",
       "3  !!!!!!!!! RT @C_G_Anderson: @viva_based she lo...      1\n",
       "4  !!!!!!!!!!!!! RT @ShenikaRoberts: The shit you...      1"
      ]
     },
     "execution_count": 4,
     "metadata": {},
     "output_type": "execute_result"
    }
   ],
   "source": [
    "# dropping the unwanted features\n",
    "df = df[['tweet', 'class']]\n",
    "df.head()"
   ]
  },
  {
   "cell_type": "code",
   "execution_count": 5,
   "id": "8e1f466d",
   "metadata": {},
   "outputs": [
    {
     "data": {
      "text/plain": [
       "(24783, 2)"
      ]
     },
     "execution_count": 5,
     "metadata": {},
     "output_type": "execute_result"
    }
   ],
   "source": [
    "df.shape"
   ]
  },
  {
   "cell_type": "code",
   "execution_count": 6,
   "id": "248ee56d",
   "metadata": {
    "scrolled": true
   },
   "outputs": [
    {
     "data": {
      "text/html": [
       "<div>\n",
       "<style scoped>\n",
       "    .dataframe tbody tr th:only-of-type {\n",
       "        vertical-align: middle;\n",
       "    }\n",
       "\n",
       "    .dataframe tbody tr th {\n",
       "        vertical-align: top;\n",
       "    }\n",
       "\n",
       "    .dataframe thead th {\n",
       "        text-align: right;\n",
       "    }\n",
       "</style>\n",
       "<table border=\"1\" class=\"dataframe\">\n",
       "  <thead>\n",
       "    <tr style=\"text-align: right;\">\n",
       "      <th></th>\n",
       "      <th>class</th>\n",
       "    </tr>\n",
       "  </thead>\n",
       "  <tbody>\n",
       "    <tr>\n",
       "      <th>count</th>\n",
       "      <td>24783.000000</td>\n",
       "    </tr>\n",
       "    <tr>\n",
       "      <th>mean</th>\n",
       "      <td>1.110277</td>\n",
       "    </tr>\n",
       "    <tr>\n",
       "      <th>std</th>\n",
       "      <td>0.462089</td>\n",
       "    </tr>\n",
       "    <tr>\n",
       "      <th>min</th>\n",
       "      <td>0.000000</td>\n",
       "    </tr>\n",
       "    <tr>\n",
       "      <th>25%</th>\n",
       "      <td>1.000000</td>\n",
       "    </tr>\n",
       "    <tr>\n",
       "      <th>50%</th>\n",
       "      <td>1.000000</td>\n",
       "    </tr>\n",
       "    <tr>\n",
       "      <th>75%</th>\n",
       "      <td>1.000000</td>\n",
       "    </tr>\n",
       "    <tr>\n",
       "      <th>max</th>\n",
       "      <td>2.000000</td>\n",
       "    </tr>\n",
       "  </tbody>\n",
       "</table>\n",
       "</div>"
      ],
      "text/plain": [
       "              class\n",
       "count  24783.000000\n",
       "mean       1.110277\n",
       "std        0.462089\n",
       "min        0.000000\n",
       "25%        1.000000\n",
       "50%        1.000000\n",
       "75%        1.000000\n",
       "max        2.000000"
      ]
     },
     "execution_count": 6,
     "metadata": {},
     "output_type": "execute_result"
    }
   ],
   "source": [
    "# describing the variables in the dataset\n",
    "df.describe()"
   ]
  },
  {
   "cell_type": "code",
   "execution_count": 7,
   "id": "fd4e9829",
   "metadata": {},
   "outputs": [],
   "source": [
    "# Preprocess the data\n",
    "X = df['tweet'].values\n",
    "y = df['class'].values"
   ]
  },
  {
   "cell_type": "code",
   "execution_count": 8,
   "id": "4356dd65",
   "metadata": {},
   "outputs": [],
   "source": [
    "# Tokenize the text\n",
    "tokenizer = Tokenizer()\n",
    "tokenizer.fit_on_texts(X)\n",
    "X_seq = tokenizer.texts_to_sequences(X)"
   ]
  },
  {
   "cell_type": "code",
   "execution_count": 9,
   "id": "a685bd60",
   "metadata": {},
   "outputs": [],
   "source": [
    "# Pad the sequences to have the same length\n",
    "X_padded = pad_sequences(X_seq)"
   ]
  },
  {
   "cell_type": "code",
   "execution_count": 10,
   "id": "39a61be8",
   "metadata": {},
   "outputs": [],
   "source": [
    "# Split the data into training and testing sets\n",
    "X_train, X_test, y_train, y_test = train_test_split(X_padded, y, test_size=0.2, random_state=42)"
   ]
  },
  {
   "cell_type": "markdown",
   "id": "4c89252a",
   "metadata": {},
   "source": [
    "# LSTM"
   ]
  },
  {
   "cell_type": "code",
   "execution_count": 11,
   "id": "d5c3f86f",
   "metadata": {},
   "outputs": [
    {
     "name": "stdout",
     "output_type": "stream",
     "text": [
      "WARNING:tensorflow:From C:\\Users\\jahna\\anaconda3\\Lib\\site-packages\\keras\\src\\backend.py:873: The name tf.get_default_graph is deprecated. Please use tf.compat.v1.get_default_graph instead.\n",
      "\n"
     ]
    }
   ],
   "source": [
    "# Define the model LSTM\n",
    "model_lstm = Sequential()\n",
    "model_lstm.add(Embedding(input_dim=len(tokenizer.word_index) + 1, output_dim=50, input_length=X_padded.shape[1]))\n",
    "model_lstm.add(LSTM(100))\n",
    "model_lstm.add(Dense(3, activation='softmax'))  # 3 classes: 0, 1, 2"
   ]
  },
  {
   "cell_type": "code",
   "execution_count": 12,
   "id": "a50f3953",
   "metadata": {},
   "outputs": [
    {
     "name": "stdout",
     "output_type": "stream",
     "text": [
      "WARNING:tensorflow:From C:\\Users\\jahna\\anaconda3\\Lib\\site-packages\\keras\\src\\optimizers\\__init__.py:309: The name tf.train.Optimizer is deprecated. Please use tf.compat.v1.train.Optimizer instead.\n",
      "\n"
     ]
    }
   ],
   "source": [
    "# Compile the model\n",
    "model_lstm.compile(loss='sparse_categorical_crossentropy', optimizer='adam', metrics=['accuracy'])"
   ]
  },
  {
   "cell_type": "code",
   "execution_count": 13,
   "id": "32c2695c",
   "metadata": {
    "scrolled": true
   },
   "outputs": [
    {
     "name": "stdout",
     "output_type": "stream",
     "text": [
      "Epoch 1/5\n",
      "WARNING:tensorflow:From C:\\Users\\jahna\\anaconda3\\Lib\\site-packages\\keras\\src\\utils\\tf_utils.py:492: The name tf.ragged.RaggedTensorValue is deprecated. Please use tf.compat.v1.ragged.RaggedTensorValue instead.\n",
      "\n",
      "WARNING:tensorflow:From C:\\Users\\jahna\\anaconda3\\Lib\\site-packages\\keras\\src\\engine\\base_layer_utils.py:384: The name tf.executing_eagerly_outside_functions is deprecated. Please use tf.compat.v1.executing_eagerly_outside_functions instead.\n",
      "\n",
      "496/496 [==============================] - 52s 96ms/step - loss: 0.4545 - accuracy: 0.8448 - val_loss: 0.2965 - val_accuracy: 0.9029\n",
      "Epoch 2/5\n",
      "496/496 [==============================] - 44s 90ms/step - loss: 0.2174 - accuracy: 0.9271 - val_loss: 0.2735 - val_accuracy: 0.9072\n",
      "Epoch 3/5\n",
      "496/496 [==============================] - 45s 91ms/step - loss: 0.1155 - accuracy: 0.9631 - val_loss: 0.3625 - val_accuracy: 0.8913\n",
      "Epoch 4/5\n",
      "496/496 [==============================] - 44s 89ms/step - loss: 0.0593 - accuracy: 0.9805 - val_loss: 0.4113 - val_accuracy: 0.8891\n",
      "Epoch 5/5\n",
      "496/496 [==============================] - 45s 90ms/step - loss: 0.0339 - accuracy: 0.9895 - val_loss: 0.5032 - val_accuracy: 0.8835\n"
     ]
    },
    {
     "data": {
      "text/plain": [
       "<keras.src.callbacks.History at 0x14ae461d450>"
      ]
     },
     "execution_count": 13,
     "metadata": {},
     "output_type": "execute_result"
    }
   ],
   "source": [
    "# Train the model\n",
    "model_lstm.fit(X_train, y_train, epochs=5, batch_size=32, validation_split=0.2)"
   ]
  },
  {
   "cell_type": "code",
   "execution_count": 14,
   "id": "d42782e2",
   "metadata": {},
   "outputs": [
    {
     "name": "stdout",
     "output_type": "stream",
     "text": [
      "155/155 [==============================] - 4s 23ms/step - loss: 0.5638 - accuracy: 0.8669\n",
      "Test Accuracy: 0.8668549656867981\n"
     ]
    }
   ],
   "source": [
    "accuracy_lstm = model_lstm.evaluate(X_test, y_test)[1]\n",
    "print(f\"Test Accuracy: {accuracy_lstm}\")"
   ]
  },
  {
   "cell_type": "code",
   "execution_count": 15,
   "id": "9c18b0e8",
   "metadata": {},
   "outputs": [
    {
     "name": "stdout",
     "output_type": "stream",
     "text": [
      "155/155 [==============================] - 4s 23ms/step\n",
      "\n",
      "classification_report:\n",
      "              precision    recall  f1-score   support\n",
      "\n",
      "           0       0.05      0.79      0.09       290\n",
      "           1       0.51      0.02      0.05      3832\n",
      "           2       0.00      0.00      0.00       835\n",
      "\n",
      "    accuracy                           0.06      4957\n",
      "   macro avg       0.19      0.27      0.05      4957\n",
      "weighted avg       0.40      0.06      0.04      4957\n",
      "\n"
     ]
    },
    {
     "name": "stderr",
     "output_type": "stream",
     "text": [
      "C:\\Users\\jahna\\anaconda3\\Lib\\site-packages\\sklearn\\metrics\\_classification.py:1469: UndefinedMetricWarning: Precision and F-score are ill-defined and being set to 0.0 in labels with no predicted samples. Use `zero_division` parameter to control this behavior.\n",
      "  _warn_prf(average, modifier, msg_start, len(result))\n",
      "C:\\Users\\jahna\\anaconda3\\Lib\\site-packages\\sklearn\\metrics\\_classification.py:1469: UndefinedMetricWarning: Precision and F-score are ill-defined and being set to 0.0 in labels with no predicted samples. Use `zero_division` parameter to control this behavior.\n",
      "  _warn_prf(average, modifier, msg_start, len(result))\n",
      "C:\\Users\\jahna\\anaconda3\\Lib\\site-packages\\sklearn\\metrics\\_classification.py:1469: UndefinedMetricWarning: Precision and F-score are ill-defined and being set to 0.0 in labels with no predicted samples. Use `zero_division` parameter to control this behavior.\n",
      "  _warn_prf(average, modifier, msg_start, len(result))\n"
     ]
    }
   ],
   "source": [
    "y_pred= model_lstm.predict(X_test)\n",
    "round_predictions = [round(pred[0]) for pred in y_pred]\n",
    "print(\"\\nclassification_report:\")\n",
    "print(classification_report(y_test, round_predictions ))"
   ]
  },
  {
   "cell_type": "markdown",
   "id": "17c7b22c",
   "metadata": {},
   "source": [
    "# RNN"
   ]
  },
  {
   "cell_type": "code",
   "execution_count": 16,
   "id": "04790814",
   "metadata": {},
   "outputs": [],
   "source": [
    "# Define the model RNN\n",
    "model_rnn = Sequential()\n",
    "model_rnn.add(Embedding(input_dim=len(tokenizer.word_index) + 1, output_dim=50, input_length=X_padded.shape[1]))\n",
    "model_rnn.add(SimpleRNN(100))\n",
    "model_rnn.add(Dense(3, activation='softmax'))  # 3 classes: 0, 1, 2"
   ]
  },
  {
   "cell_type": "code",
   "execution_count": 17,
   "id": "9f63792a",
   "metadata": {},
   "outputs": [],
   "source": [
    "# Compile the model\n",
    "model_rnn.compile(loss='sparse_categorical_crossentropy', optimizer='adam', metrics=['accuracy'])"
   ]
  },
  {
   "cell_type": "code",
   "execution_count": 18,
   "id": "e27c6574",
   "metadata": {},
   "outputs": [
    {
     "name": "stdout",
     "output_type": "stream",
     "text": [
      "Epoch 1/5\n",
      "496/496 [==============================] - 30s 52ms/step - loss: 0.5833 - accuracy: 0.7882 - val_loss: 0.3376 - val_accuracy: 0.8807\n",
      "Epoch 2/5\n",
      "496/496 [==============================] - 26s 52ms/step - loss: 0.2594 - accuracy: 0.9115 - val_loss: 0.3007 - val_accuracy: 0.9027\n",
      "Epoch 3/5\n",
      "496/496 [==============================] - 25s 50ms/step - loss: 0.1292 - accuracy: 0.9579 - val_loss: 0.3988 - val_accuracy: 0.8797\n",
      "Epoch 4/5\n",
      "496/496 [==============================] - 24s 48ms/step - loss: 0.0332 - accuracy: 0.9910 - val_loss: 0.4506 - val_accuracy: 0.8701\n",
      "Epoch 5/5\n",
      "496/496 [==============================] - 23s 46ms/step - loss: 0.0101 - accuracy: 0.9980 - val_loss: 0.5052 - val_accuracy: 0.8626\n"
     ]
    },
    {
     "data": {
      "text/plain": [
       "<keras.src.callbacks.History at 0x14ae149fe50>"
      ]
     },
     "execution_count": 18,
     "metadata": {},
     "output_type": "execute_result"
    }
   ],
   "source": [
    "# Train the model\n",
    "model_rnn.fit(X_train, y_train, epochs=5, batch_size=32, validation_split=0.2)"
   ]
  },
  {
   "cell_type": "code",
   "execution_count": 19,
   "id": "fe01fd9d",
   "metadata": {},
   "outputs": [
    {
     "name": "stdout",
     "output_type": "stream",
     "text": [
      "155/155 [==============================] - 1s 9ms/step - loss: 0.5421 - accuracy: 0.8543\n",
      "Test Accuracy: 0.8543474078178406\n"
     ]
    }
   ],
   "source": [
    "accuracy_rnn = model_rnn.evaluate(X_test, y_test)[1]\n",
    "print(f\"Test Accuracy: {accuracy_rnn}\")"
   ]
  },
  {
   "cell_type": "code",
   "execution_count": 20,
   "id": "31548bc6",
   "metadata": {},
   "outputs": [
    {
     "name": "stdout",
     "output_type": "stream",
     "text": [
      "155/155 [==============================] - 2s 9ms/step\n"
     ]
    }
   ],
   "source": [
    "y_pred= model_rnn.predict(X_test)\n",
    "round_predictions = [round(pred[0]) for pred in y_pred]"
   ]
  },
  {
   "cell_type": "code",
   "execution_count": 21,
   "id": "86eb5aee",
   "metadata": {},
   "outputs": [
    {
     "name": "stdout",
     "output_type": "stream",
     "text": [
      "\n",
      "classification_report:\n",
      "              precision    recall  f1-score   support\n",
      "\n",
      "           0       0.05      0.85      0.10       290\n",
      "           1       0.75      0.04      0.08      3832\n",
      "           2       0.00      0.00      0.00       835\n",
      "\n",
      "    accuracy                           0.08      4957\n",
      "   macro avg       0.27      0.30      0.06      4957\n",
      "weighted avg       0.58      0.08      0.07      4957\n",
      "\n"
     ]
    },
    {
     "name": "stderr",
     "output_type": "stream",
     "text": [
      "C:\\Users\\jahna\\anaconda3\\Lib\\site-packages\\sklearn\\metrics\\_classification.py:1469: UndefinedMetricWarning: Precision and F-score are ill-defined and being set to 0.0 in labels with no predicted samples. Use `zero_division` parameter to control this behavior.\n",
      "  _warn_prf(average, modifier, msg_start, len(result))\n",
      "C:\\Users\\jahna\\anaconda3\\Lib\\site-packages\\sklearn\\metrics\\_classification.py:1469: UndefinedMetricWarning: Precision and F-score are ill-defined and being set to 0.0 in labels with no predicted samples. Use `zero_division` parameter to control this behavior.\n",
      "  _warn_prf(average, modifier, msg_start, len(result))\n",
      "C:\\Users\\jahna\\anaconda3\\Lib\\site-packages\\sklearn\\metrics\\_classification.py:1469: UndefinedMetricWarning: Precision and F-score are ill-defined and being set to 0.0 in labels with no predicted samples. Use `zero_division` parameter to control this behavior.\n",
      "  _warn_prf(average, modifier, msg_start, len(result))\n"
     ]
    }
   ],
   "source": [
    "print(\"\\nclassification_report:\")\n",
    "print(classification_report(y_test, round_predictions ))"
   ]
  },
  {
   "cell_type": "code",
   "execution_count": 22,
   "id": "315bd4e8",
   "metadata": {},
   "outputs": [
    {
     "data": {
      "text/plain": [
       "<Axes: xlabel='class', ylabel='count'>"
      ]
     },
     "execution_count": 22,
     "metadata": {},
     "output_type": "execute_result"
    },
    {
     "data": {
      "image/png": "[encoded data removed]",
      "text/plain": [
       "<Figure size 640x480 with 1 Axes>"
      ]
     },
     "metadata": {},
     "output_type": "display_data"
    }
   ],
   "source": [
    "sns.countplot(x=\"class\", data = df)"
   ]
  },
  {
   "cell_type": "markdown",
   "id": "ef3a2c01",
   "metadata": {},
   "source": [
    "# CNN"
   ]
  },
  {
   "cell_type": "code",
   "execution_count": 23,
   "id": "3c5a307b",
   "metadata": {},
   "outputs": [],
   "source": [
    "# Define the CNN model\n",
    "model_cnn = Sequential()\n",
    "model_cnn.add(Embedding(input_dim=len(tokenizer.word_index) + 1, output_dim=50, input_length=X_padded.shape[1]))\n",
    "model_cnn.add(Conv1D(128, 5, activation='relu'))\n",
    "model_cnn.add(GlobalMaxPooling1D())\n",
    "model_cnn.add(Dense(3, activation='softmax'))  # 3 classes: 0, 1, 2"
   ]
  },
  {
   "cell_type": "code",
   "execution_count": 24,
   "id": "062dbf5f",
   "metadata": {},
   "outputs": [],
   "source": [
    "# Compile the model\n",
    "model_cnn.compile(loss='sparse_categorical_crossentropy', optimizer='adam', metrics=['accuracy'])"
   ]
  },
  {
   "cell_type": "code",
   "execution_count": 25,
   "id": "dd94e815",
   "metadata": {},
   "outputs": [
    {
     "name": "stdout",
     "output_type": "stream",
     "text": [
      "Epoch 1/5\n",
      "496/496 [==============================] - 20s 37ms/step - loss: 0.3990 - accuracy: 0.8604 - val_loss: 0.2512 - val_accuracy: 0.9181\n",
      "Epoch 2/5\n",
      "496/496 [==============================] - 20s 39ms/step - loss: 0.1977 - accuracy: 0.9298 - val_loss: 0.2712 - val_accuracy: 0.9077\n",
      "Epoch 3/5\n",
      "496/496 [==============================] - 53s 107ms/step - loss: 0.0889 - accuracy: 0.9711 - val_loss: 0.3229 - val_accuracy: 0.8981\n",
      "Epoch 4/5\n",
      "496/496 [==============================] - 17s 35ms/step - loss: 0.0272 - accuracy: 0.9922 - val_loss: 0.3793 - val_accuracy: 0.8888\n",
      "Epoch 5/5\n",
      "496/496 [==============================] - 22s 44ms/step - loss: 0.0087 - accuracy: 0.9981 - val_loss: 0.4340 - val_accuracy: 0.8911\n"
     ]
    },
    {
     "data": {
      "text/plain": [
       "<keras.src.callbacks.History at 0x14af0fb93d0>"
      ]
     },
     "execution_count": 25,
     "metadata": {},
     "output_type": "execute_result"
    }
   ],
   "source": [
    "# Train the model\n",
    "model_cnn.fit(X_train, y_train, epochs=5, batch_size=32, validation_split=0.2)"
   ]
  },
  {
   "cell_type": "code",
   "execution_count": 26,
   "id": "a9b059eb",
   "metadata": {},
   "outputs": [
    {
     "name": "stdout",
     "output_type": "stream",
     "text": [
      "155/155 [==============================] - 1s 7ms/step - loss: 0.4692 - accuracy: 0.8804\n",
      "Test Accuracy: 0.8803712129592896\n"
     ]
    }
   ],
   "source": [
    "accuracy_cnn = model_cnn.evaluate(X_test, y_test)[1]\n",
    "print(f\"Test Accuracy: {accuracy_cnn}\")"
   ]
  },
  {
   "cell_type": "code",
   "execution_count": 27,
   "id": "45fa9a37",
   "metadata": {},
   "outputs": [
    {
     "name": "stdout",
     "output_type": "stream",
     "text": [
      "155/155 [==============================] - 1s 6ms/step\n",
      "\n",
      "classification_report:\n",
      "              precision    recall  f1-score   support\n",
      "\n",
      "           0       0.04      0.73      0.08       290\n",
      "           1       0.53      0.03      0.05      3832\n",
      "           2       0.00      0.00      0.00       835\n",
      "\n",
      "    accuracy                           0.06      4957\n",
      "   macro avg       0.19      0.25      0.05      4957\n",
      "weighted avg       0.41      0.06      0.05      4957\n",
      "\n"
     ]
    },
    {
     "name": "stderr",
     "output_type": "stream",
     "text": [
      "C:\\Users\\jahna\\anaconda3\\Lib\\site-packages\\sklearn\\metrics\\_classification.py:1469: UndefinedMetricWarning: Precision and F-score are ill-defined and being set to 0.0 in labels with no predicted samples. Use `zero_division` parameter to control this behavior.\n",
      "  _warn_prf(average, modifier, msg_start, len(result))\n",
      "C:\\Users\\jahna\\anaconda3\\Lib\\site-packages\\sklearn\\metrics\\_classification.py:1469: UndefinedMetricWarning: Precision and F-score are ill-defined and being set to 0.0 in labels with no predicted samples. Use `zero_division` parameter to control this behavior.\n",
      "  _warn_prf(average, modifier, msg_start, len(result))\n",
      "C:\\Users\\jahna\\anaconda3\\Lib\\site-packages\\sklearn\\metrics\\_classification.py:1469: UndefinedMetricWarning: Precision and F-score are ill-defined and being set to 0.0 in labels with no predicted samples. Use `zero_division` parameter to control this behavior.\n",
      "  _warn_prf(average, modifier, msg_start, len(result))\n"
     ]
    }
   ],
   "source": [
    "y_pred= model_cnn.predict(X_test)\n",
    "round_predictions = [round(pred[0]) for pred in y_pred]\n",
    "print(\"\\nclassification_report:\")\n",
    "print(classification_report(y_test, round_predictions ))"
   ]
  },
  {
   "cell_type": "code",
   "execution_count": 28,
   "id": "cadbe275",
   "metadata": {},
   "outputs": [
    {
     "name": "stdout",
     "output_type": "stream",
     "text": [
      "Test Accuracy: 0.8668549656867981\n",
      "Test Accuracy: 0.8543474078178406\n",
      "Test Accuracy: 0.8803712129592896\n"
     ]
    }
   ],
   "source": [
    "print(f\"Test Accuracy: {accuracy_lstm}\")\n",
    "print(f\"Test Accuracy: {accuracy_rnn}\")\n",
    "print(f\"Test Accuracy: {accuracy_cnn}\")"
   ]
  },
  {
   "cell_type": "code",
   "execution_count": 29,
   "id": "8611c59a",
   "metadata": {},
   "outputs": [
    {
     "name": "stdout",
     "output_type": "stream",
     "text": [
      "1/1 [==============================] - 0s 65ms/step\n",
      "Predicted Class: [1]\n",
      "offensive language detected\n"
     ]
    }
   ],
   "source": [
    "# Predicting the output\n",
    "test_data = [\"Lmao @SWILLA_LO: The d.rose adidas are lighter than my phone .... Shit is retarded\"]\n",
    "test_seq = tokenizer.texts_to_sequences(test_data)\n",
    "test_padded = pad_sequences(test_seq, maxlen=X_padded.shape[1])\n",
    "predictions = model_cnn.predict(test_padded)\n",
    "predicted_class = predictions.argmax(axis=-1)\n",
    "\n",
    "print(f\"Predicted Class: {predicted_class}\")\n",
    "if(predicted_class==0):\n",
    "  print(\"Hate speech detected\")\n",
    "elif(predicted_class==1):\n",
    "   print(\"offensive language detected\")\n",
    "elif(predicted_class==2):\n",
    "   print(\"No hate and offensive speech\")"
   ]
  },
  {
   "cell_type": "code",
   "execution_count": null,
   "id": "78379aa7",
   "metadata": {},
   "outputs": [],
   "source": []
  },
  {
   "cell_type": "code",
   "execution_count": null,
   "id": "dd110024",
   "metadata": {},
   "outputs": [],
   "source": []
  }
 ],
 "metadata": {
  "kernelspec": {
   "display_name": "Python 3 (ipykernel)",
   "language": "python",
   "name": "python3"
  },
  "language_info": {
   "codemirror_mode": {
    "name": "ipython",
    "version": 3
   },
   "file_extension": ".py",
   "mimetype": "text/x-python",
   "name": "python",
   "nbconvert_exporter": "python",
   "pygments_lexer": "ipython3",
   "version": "3.11.4"
  }
 },
 "nbformat": 4,
 "nbformat_minor": 5
}
